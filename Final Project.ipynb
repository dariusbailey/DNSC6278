{
 "cells": [
  {
   "cell_type": "code",
   "execution_count": 1,
   "metadata": {},
   "outputs": [],
   "source": [
    "import findspark\n",
    "findspark.init()\n",
    "from pyspark.sql import SparkSession\n",
    "spark = SparkSession.builder.appName(\"lab-ml\").getOrCreate()"
   ]
  },
  {
   "cell_type": "code",
   "execution_count": 2,
   "metadata": {},
   "outputs": [
    {
     "data": {
      "text/html": [
       "\n",
       "            <div>\n",
       "                <p><b>SparkSession - in-memory</b></p>\n",
       "                \n",
       "        <div>\n",
       "            <p><b>SparkContext</b></p>\n",
       "\n",
       "            <p><a href=\"http://ip-172-31-69-227.ec2.internal:4040\">Spark UI</a></p>\n",
       "\n",
       "            <dl>\n",
       "              <dt>Version</dt>\n",
       "                <dd><code>v2.4.2</code></dd>\n",
       "              <dt>Master</dt>\n",
       "                <dd><code>yarn</code></dd>\n",
       "              <dt>AppName</dt>\n",
       "                <dd><code>lab-ml</code></dd>\n",
       "            </dl>\n",
       "        </div>\n",
       "        \n",
       "            </div>\n",
       "        "
      ],
      "text/plain": [
       "<pyspark.sql.session.SparkSession at 0x7f7370a25470>"
      ]
     },
     "execution_count": 2,
     "metadata": {},
     "output_type": "execute_result"
    }
   ],
   "source": [
    "spark"
   ]
  },
  {
   "cell_type": "code",
   "execution_count": 14,
   "metadata": {},
   "outputs": [],
   "source": [
    "from pyspark.sql.functions import UserDefinedFunction\n",
    "from pyspark.ml import Pipeline\n",
    "from pyspark.ml.feature import OneHotEncoder, StringIndexer, VectorIndexer\n",
    "from pyspark.sql.types import *\n",
    "from pyspark.sql.functions import *\n",
    "from pyspark.sql import functions\n",
    "from pyspark.ml.classification import LogisticRegression\n",
    "from pyspark.mllib.evaluation import BinaryClassificationMetrics\n",
    "from pyspark.ml.feature import RFormula\n",
    "import matplotlib.pyplot as plt\n",
    "import numpy as np\n",
    "import datetime\n",
    "\n",
    "## Import natural language processing toolkit \n",
    "import re\n",
    "import nltk\n",
    "import string\n",
    "from nltk.tokenize import sent_tokenize\n",
    "from nltk.tokenize import word_tokenize\n",
    "from nltk.corpus import stopwords\n",
    "\n",
    "from pyspark.sql.functions import udf\n"
   ]
  },
  {
   "cell_type": "code",
   "execution_count": 4,
   "metadata": {},
   "outputs": [],
   "source": [
    "path = \"s3://bailey-bucket-dtb/user_dedup.json\"\n",
    "reviews = spark.read.json(path)"
   ]
  },
  {
   "cell_type": "code",
   "execution_count": 8,
   "metadata": {},
   "outputs": [
    {
     "name": "stdout",
     "output_type": "stream",
     "text": [
      "root\n",
      " |-- asin: string (nullable = true)\n",
      " |-- helpful: array (nullable = true)\n",
      " |    |-- element: long (containsNull = true)\n",
      " |-- overall: double (nullable = true)\n",
      " |-- reviewText: string (nullable = true)\n",
      " |-- reviewTime: string (nullable = true)\n",
      " |-- reviewerID: string (nullable = true)\n",
      " |-- reviewerName: string (nullable = true)\n",
      " |-- summary: string (nullable = true)\n",
      " |-- unixReviewTime: long (nullable = true)\n",
      "\n"
     ]
    }
   ],
   "source": [
    "reviews.printSchema()"
   ]
  },
  {
   "cell_type": "code",
   "execution_count": 23,
   "metadata": {},
   "outputs": [
    {
     "name": "stdout",
     "output_type": "stream",
     "text": [
      "+-------+--------+\n",
      "|overall|   count|\n",
      "+-------+--------+\n",
      "|    1.0| 6712117|\n",
      "|    2.0| 4265230|\n",
      "|    3.0| 7049302|\n",
      "|    4.0|15480820|\n",
      "|    5.0|49169670|\n",
      "+-------+--------+\n",
      "\n"
     ]
    }
   ],
   "source": [
    "reviews.groupBy('overall').agg(count('reviewerID').alias('count')).sort('overall').show()"
   ]
  },
  {
   "cell_type": "code",
   "execution_count": 24,
   "metadata": {},
   "outputs": [],
   "source": [
    "sample_rev = reviews.sample(False, .01, 12345)"
   ]
  },
  {
   "cell_type": "code",
   "execution_count": 30,
   "metadata": {},
   "outputs": [
    {
     "name": "stdout",
     "output_type": "stream",
     "text": [
      "+----------+-------+-------+--------------------+--------------------+-----------+--------------------+--------------+\n",
      "|      asin|helpful|overall|          reviewerID|<lambda>(reviewText)| reviewTime|             summary|unixReviewTime|\n",
      "+----------+-------+-------+--------------------+--------------------+-----------+--------------------+--------------+\n",
      "|B003ESE4TI| [0, 0]|    5.0|A000063614T1OE0BU...|I buy these for m...| 04 5, 2013|         Great value|    1365120000|\n",
      "|B004GWQBWY| [0, 0]|    5.0|A00009661LC9LQPGK...|Loftek is an awes...|10 26, 2012|      Awsome Camera!|    1351209600|\n",
      "|1479294608| [1, 1]|    5.0|A00009921ASVLX5LO...|This was a great ...|03 23, 2014|         great book!|    1395532800|\n",
      "|B003EO1H7E| [0, 0]|    5.0|A000187635I595IAV...|I am a newbie at ...|01 26, 2013|Was asked for my ...|    1359158400|\n",
      "|B00I8NZWWW| [0, 1]|    5.0|A000387412WV6NRZN...|I have just recei...| 07 1, 2014|They are absolute...|    1404172800|\n",
      "+----------+-------+-------+--------------------+--------------------+-----------+--------------------+--------------+\n",
      "only showing top 5 rows\n",
      "\n"
     ]
    }
   ],
   "source": [
    "# remove punctuation\n",
    "def remove_punct(text):\n",
    "    regex = re.compile('[' + re.escape(string.punctuation) + '0-9\\\\r\\\\t\\\\n]')\n",
    "    nopunct = regex.sub(\" \", text)\n",
    "    return nopunct\n",
    "\n",
    "# binarize rating\n",
    "def convert_rating(rating):\n",
    "    rating = int(rating)\n",
    "    if rating >=4: return 1\n",
    "    else: return 0\n",
    "\n",
    "# udf\n",
    "punct_remover = udf(lambda x: remove_punct(x))\n",
    "rating_convert = udf(lambda x: convert_rating(x))\n",
    "\n",
    "# apply to review raw data\n",
    "review_df = sample_rev.select('asin', 'helpful', 'overall', 'reviewerID', punct_remover('reviewText'), 'reviewTime', 'summary', 'unixReviewTime') #, rating_convert('overall')\n",
    "\n",
    "# review_df = review_df.withColumnRenamed('<lambda>(reviewText)', 'reviewText')\\\n",
    "#                      .withColumn('label', review_df[\"<lambda>(overall)\"].cast(IntegerType()))\\\n",
    "#                      .drop('<lambda>(overall)')\\\n",
    "#                      .limit(1000000)\n",
    "\n",
    "review_df.show(5)"
   ]
  },
  {
   "cell_type": "code",
   "execution_count": 31,
   "metadata": {},
   "outputs": [
    {
     "name": "stdout",
     "output_type": "stream",
     "text": [
      "root\n",
      " |-- asin: string (nullable = true)\n",
      " |-- helpful: array (nullable = true)\n",
      " |    |-- element: long (containsNull = true)\n",
      " |-- overall: double (nullable = true)\n",
      " |-- reviewerID: string (nullable = true)\n",
      " |-- <lambda>(reviewText): string (nullable = true)\n",
      " |-- reviewTime: string (nullable = true)\n",
      " |-- summary: string (nullable = true)\n",
      " |-- unixReviewTime: long (nullable = true)\n",
      "\n"
     ]
    }
   ],
   "source": [
    "review_df.printSchema()"
   ]
  },
  {
   "cell_type": "code",
   "execution_count": 32,
   "metadata": {},
   "outputs": [
    {
     "name": "stdout",
     "output_type": "stream",
     "text": [
      "+-------+------+\n",
      "|overall| count|\n",
      "+-------+------+\n",
      "|    1.0| 67031|\n",
      "|    2.0| 42286|\n",
      "|    3.0| 70503|\n",
      "|    4.0|153976|\n",
      "|    5.0|492050|\n",
      "+-------+------+\n",
      "\n"
     ]
    }
   ],
   "source": [
    "review_df.groupBy('overall').agg(count('reviewerID').alias('count')).sort('overall').show()"
   ]
  },
  {
   "cell_type": "code",
   "execution_count": 34,
   "metadata": {},
   "outputs": [
    {
     "ename": "NameError",
     "evalue": "name 'Tokenizer' is not defined",
     "output_type": "error",
     "traceback": [
      "\u001b[0;31m---------------------------------------------------------------------------\u001b[0m",
      "\u001b[0;31mNameError\u001b[0m                                 Traceback (most recent call last)",
      "\u001b[0;32m<ipython-input-34-ff452f21ac7e>\u001b[0m in \u001b[0;36m<module>\u001b[0;34m\u001b[0m\n\u001b[1;32m      1\u001b[0m \u001b[0;31m# tokenize\u001b[0m\u001b[0;34m\u001b[0m\u001b[0;34m\u001b[0m\u001b[0;34m\u001b[0m\u001b[0m\n\u001b[0;32m----> 2\u001b[0;31m \u001b[0mtok\u001b[0m \u001b[0;34m=\u001b[0m \u001b[0mTokenizer\u001b[0m\u001b[0;34m(\u001b[0m\u001b[0minputCol\u001b[0m\u001b[0;34m=\u001b[0m\u001b[0;34m\"reviewText\"\u001b[0m\u001b[0;34m,\u001b[0m \u001b[0moutputCol\u001b[0m\u001b[0;34m=\u001b[0m\u001b[0;34m\"words\"\u001b[0m\u001b[0;34m)\u001b[0m\u001b[0;34m\u001b[0m\u001b[0;34m\u001b[0m\u001b[0m\n\u001b[0m\u001b[1;32m      3\u001b[0m \u001b[0mreview_tokenized\u001b[0m \u001b[0;34m=\u001b[0m \u001b[0mtok\u001b[0m\u001b[0;34m.\u001b[0m\u001b[0mtransform\u001b[0m\u001b[0;34m(\u001b[0m\u001b[0mreview_df\u001b[0m\u001b[0;34m)\u001b[0m\u001b[0;34m\u001b[0m\u001b[0;34m\u001b[0m\u001b[0m\n\u001b[1;32m      4\u001b[0m \u001b[0;34m\u001b[0m\u001b[0m\n\u001b[1;32m      5\u001b[0m \u001b[0;31m# remove stop words\u001b[0m\u001b[0;34m\u001b[0m\u001b[0;34m\u001b[0m\u001b[0;34m\u001b[0m\u001b[0m\n",
      "\u001b[0;31mNameError\u001b[0m: name 'Tokenizer' is not defined"
     ]
    }
   ],
   "source": [
    "# tokenize\n",
    "tok = Tokenizer(inputCol=\"reviewText\", outputCol=\"words\")\n",
    "review_tokenized = tok.transform(review_df)\n",
    "\n",
    "# remove stop words\n",
    "stopword_rm = StopWordsRemover(inputCol='words', outputCol='words_nsw')\n",
    "review_tokenized = stopword_rm.transform(review_tokenized)\n",
    "\n",
    "review_tokenized.show(5)"
   ]
  },
  {
   "cell_type": "code",
   "execution_count": 15,
   "metadata": {},
   "outputs": [
    {
     "name": "stderr",
     "output_type": "stream",
     "text": [
      "/home/hadoop/miniconda/lib/python3.6/site-packages/pyarrow/pandas_compat.py:752: FutureWarning: .labels was deprecated in version 0.24.0. Use .codes instead.\n",
      "  labels, = index.labels\n"
     ]
    }
   ],
   "source": [
    "import numpy as np\n",
    "import pandas as pd\n",
    "\n",
    "# Enable Arrow-based columnar data transfers\n",
    "spark.conf.set(\"spark.sql.execution.arrow.enabled\", \"true\")\n",
    "\n",
    "test_pdf = sample_rev.select(\"*\").toPandas()"
   ]
  },
  {
   "cell_type": "code",
   "execution_count": 33,
   "metadata": {},
   "outputs": [],
   "source": [
    "# from textblob import TextBlob\n",
    "\n",
    "# def preprocess(ReviewText):\n",
    "#     ReviewText = ReviewText.str.replace(\"(<br/>)\", \"\")\n",
    "#     ReviewText = ReviewText.str.replace('(<a).*(>).*(</a>)', '')\n",
    "#     ReviewText = ReviewText.str.replace('(&amp)', '')\n",
    "#     ReviewText = ReviewText.str.replace('(&gt)', '')\n",
    "#     ReviewText = ReviewText.str.replace('(&lt)', '')\n",
    "#     ReviewText = ReviewText.str.replace('(\\xa0)', ' ')  \n",
    "#     return ReviewText\n",
    "# test_pdf['reviewText'] = preprocess(test_pdf['reviewText'])\n",
    "\n",
    "# test_pdf['polarity'] = test_pdf['reviewText'].map(lambda text: TextBlob(text).sentiment.polarity)\n",
    "# test_pdf['review_len'] = test_pdf['reviewText'].astype(str).apply(len)\n",
    "# test_pdf['word_count'] = test_pdf['reviewText'].apply(lambda x: len(str(x).split()))"
   ]
  },
  {
   "cell_type": "code",
   "execution_count": null,
   "metadata": {},
   "outputs": [],
   "source": []
  }
 ],
 "metadata": {
  "kernelspec": {
   "display_name": "Python 3",
   "language": "python",
   "name": "python3"
  },
  "language_info": {
   "codemirror_mode": {
    "name": "ipython",
    "version": 3
   },
   "file_extension": ".py",
   "mimetype": "text/x-python",
   "name": "python",
   "nbconvert_exporter": "python",
   "pygments_lexer": "ipython3",
   "version": "3.6.8"
  }
 },
 "nbformat": 4,
 "nbformat_minor": 2
}
