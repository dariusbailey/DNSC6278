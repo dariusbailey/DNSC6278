{
 "cells": [
  {
   "cell_type": "code",
   "execution_count": 1,
   "metadata": {},
   "outputs": [],
   "source": [
    "import findspark\n",
    "findspark.init()\n",
    "from pyspark.sql import SparkSession\n",
    "spark = SparkSession.builder.appName(\"lab-ml\").getOrCreate()"
   ]
  },
  {
   "cell_type": "code",
   "execution_count": 2,
   "metadata": {},
   "outputs": [
    {
     "data": {
      "text/html": [
       "\n",
       "            <div>\n",
       "                <p><b>SparkSession - in-memory</b></p>\n",
       "                \n",
       "        <div>\n",
       "            <p><b>SparkContext</b></p>\n",
       "\n",
       "            <p><a href=\"http://ip-172-31-69-227.ec2.internal:4040\">Spark UI</a></p>\n",
       "\n",
       "            <dl>\n",
       "              <dt>Version</dt>\n",
       "                <dd><code>v2.4.2</code></dd>\n",
       "              <dt>Master</dt>\n",
       "                <dd><code>yarn</code></dd>\n",
       "              <dt>AppName</dt>\n",
       "                <dd><code>lab-ml</code></dd>\n",
       "            </dl>\n",
       "        </div>\n",
       "        \n",
       "            </div>\n",
       "        "
      ],
      "text/plain": [
       "<pyspark.sql.session.SparkSession at 0x7f7370a25470>"
      ]
     },
     "execution_count": 2,
     "metadata": {},
     "output_type": "execute_result"
    }
   ],
   "source": [
    "spark"
   ]
  },
  {
   "cell_type": "code",
   "execution_count": 14,
   "metadata": {},
   "outputs": [],
   "source": [
    "from pyspark.sql.functions import UserDefinedFunction\n",
    "from pyspark.ml import Pipeline\n",
    "from pyspark.ml.feature import OneHotEncoder, StringIndexer, VectorIndexer\n",
    "from pyspark.sql.types import *\n",
    "from pyspark.sql.functions import *\n",
    "from pyspark.sql import functions\n",
    "from pyspark.ml.classification import LogisticRegression\n",
    "from pyspark.mllib.evaluation import BinaryClassificationMetrics\n",
    "from pyspark.ml.feature import RFormula\n",
    "import matplotlib.pyplot as plt\n",
    "import numpy as np\n",
    "import datetime\n",
    "\n",
    "## Import natural language processing toolkit \n",
    "import re\n",
    "import nltk\n",
    "import string\n",
    "from nltk.tokenize import sent_tokenize\n",
    "from nltk.tokenize import word_tokenize\n",
    "from nltk.corpus import stopwords\n",
    "\n",
    "from pyspark.sql.functions import udf\n"
   ]
  },
  {
   "cell_type": "code",
   "execution_count": 4,
   "metadata": {},
   "outputs": [],
   "source": [
    "path = \"s3://bailey-bucket-dtb/user_dedup.json\"\n",
    "reviews = spark.read.json(path)"
   ]
  },
  {
   "cell_type": "code",
   "execution_count": 8,
   "metadata": {},
   "outputs": [
    {
     "name": "stdout",
     "output_type": "stream",
     "text": [
      "root\n",
      " |-- asin: string (nullable = true)\n",
      " |-- helpful: array (nullable = true)\n",
      " |    |-- element: long (containsNull = true)\n",
      " |-- overall: double (nullable = true)\n",
      " |-- reviewText: string (nullable = true)\n",
      " |-- reviewTime: string (nullable = true)\n",
      " |-- reviewerID: string (nullable = true)\n",
      " |-- reviewerName: string (nullable = true)\n",
      " |-- summary: string (nullable = true)\n",
      " |-- unixReviewTime: long (nullable = true)\n",
      "\n"
     ]
    }
   ],
   "source": [
    "reviews.printSchema()"
   ]
  },
  {
   "cell_type": "code",
   "execution_count": 23,
   "metadata": {},
   "outputs": [
    {
     "name": "stdout",
     "output_type": "stream",
     "text": [
      "+-------+--------+\n",
      "|overall|   count|\n",
      "+-------+--------+\n",
      "|    1.0| 6712117|\n",
      "|    2.0| 4265230|\n",
      "|    3.0| 7049302|\n",
      "|    4.0|15480820|\n",
      "|    5.0|49169670|\n",
      "+-------+--------+\n",
      "\n"
     ]
    }
   ],
   "source": [
    "reviews.groupBy('overall').agg(count('reviewerID').alias('count')).sort('overall').show()"
   ]
  },
  {
   "cell_type": "code",
   "execution_count": 24,
   "metadata": {},
   "outputs": [],
   "source": [
    "sample_rev = reviews.sample(False, .01, 12345)"
   ]
  },
  {
   "cell_type": "code",
   "execution_count": 51,
   "metadata": {},
   "outputs": [
    {
     "name": "stdout",
     "output_type": "stream",
     "text": [
      "+----------+-------+-------+--------------------+--------------------+-----------------+-----------+--------------------+--------------+\n",
      "|      asin|helpful|overall|          reviewerID|<lambda>(reviewText)|<lambda>(overall)| reviewTime|             summary|unixReviewTime|\n",
      "+----------+-------+-------+--------------------+--------------------+-----------------+-----------+--------------------+--------------+\n",
      "|B003ESE4TI| [0, 0]|    5.0|A000063614T1OE0BU...|I buy these for m...|                1| 04 5, 2013|         Great value|    1365120000|\n",
      "|B004GWQBWY| [0, 0]|    5.0|A00009661LC9LQPGK...|Loftek is an awes...|                1|10 26, 2012|      Awsome Camera!|    1351209600|\n",
      "|1479294608| [1, 1]|    5.0|A00009921ASVLX5LO...|This was a great ...|                1|03 23, 2014|         great book!|    1395532800|\n",
      "|B003EO1H7E| [0, 0]|    5.0|A000187635I595IAV...|I am a newbie at ...|                1|01 26, 2013|Was asked for my ...|    1359158400|\n",
      "|B00I8NZWWW| [0, 1]|    5.0|A000387412WV6NRZN...|I have just recei...|                1| 07 1, 2014|They are absolute...|    1404172800|\n",
      "+----------+-------+-------+--------------------+--------------------+-----------------+-----------+--------------------+--------------+\n",
      "only showing top 5 rows\n",
      "\n"
     ]
    }
   ],
   "source": [
    "# remove punctuation\n",
    "def remove_punct(text):\n",
    "    regex = re.compile('[' + re.escape(string.punctuation) + '0-9\\\\r\\\\t\\\\n]')\n",
    "    nopunct = regex.sub(\" \", text)\n",
    "    return nopunct\n",
    "\n",
    "# binarize rating\n",
    "def convert_rating(rating):\n",
    "    rating = int(rating)\n",
    "    if rating >=4: return 1\n",
    "    else: return 0\n",
    "\n",
    "# udf\n",
    "punct_remover = udf(lambda x: remove_punct(x))\n",
    "rating_convert = udf(lambda x: convert_rating(x))\n",
    "\n",
    "# apply to review raw data\n",
    "review_df = sample_rev.select('asin', 'helpful', 'overall', 'reviewerID', punct_remover('reviewText'), rating_convert('overall'), 'reviewTime', 'summary', 'unixReviewTime') #, rating_convert('overall')\n",
    "\n",
    "# review_df = review_df.withColumnRenamed('<lambda>(reviewText)', 'reviewText')\\\n",
    "#                      .withColumn('label', review_df[\"<lambda>(overall)\"].cast(IntegerType()))\\\n",
    "#                      .drop('<lambda>(overall)')\\\n",
    "#                      .limit(1000000)\n",
    "\n",
    "review_df.show(5)"
   ]
  },
  {
   "cell_type": "code",
   "execution_count": 52,
   "metadata": {},
   "outputs": [
    {
     "name": "stdout",
     "output_type": "stream",
     "text": [
      "root\n",
      " |-- asin: string (nullable = true)\n",
      " |-- helpful: array (nullable = true)\n",
      " |    |-- element: long (containsNull = true)\n",
      " |-- overall: double (nullable = true)\n",
      " |-- reviewerID: string (nullable = true)\n",
      " |-- <lambda>(reviewText): string (nullable = true)\n",
      " |-- <lambda>(overall): string (nullable = true)\n",
      " |-- reviewTime: string (nullable = true)\n",
      " |-- summary: string (nullable = true)\n",
      " |-- unixReviewTime: long (nullable = true)\n",
      "\n"
     ]
    }
   ],
   "source": [
    "review_df.printSchema()"
   ]
  },
  {
   "cell_type": "code",
   "execution_count": 53,
   "metadata": {},
   "outputs": [
    {
     "name": "stdout",
     "output_type": "stream",
     "text": [
      "+-------+------+\n",
      "|overall| count|\n",
      "+-------+------+\n",
      "|    1.0| 67031|\n",
      "|    2.0| 42286|\n",
      "|    3.0| 70503|\n",
      "|    4.0|153976|\n",
      "|    5.0|492050|\n",
      "+-------+------+\n",
      "\n"
     ]
    }
   ],
   "source": [
    "review_df.groupBy('overall').agg(count('reviewerID').alias('count')).sort('overall').show()"
   ]
  },
  {
   "cell_type": "code",
   "execution_count": 56,
   "metadata": {},
   "outputs": [],
   "source": [
    "# from pyspark.ml.feature import * \n",
    "# from nltk.stem.porter import *\n",
    "# from nltk.tokenize import word_tokenize, sent_tokenize\n",
    "# from nltk.corpus import stopwords\n",
    "\n",
    "# # tokenize\n",
    "# tok = Tokenizer(inputCol=\"<lambda>(reviewText)\", outputCol=\"words\")\n",
    "# review_tokenized = tok.transform(review_df)\n",
    "\n",
    "# # remove stop words\n",
    "# stopword_rm = StopWordsRemover(inputCol='words', outputCol='words_nsw')\n",
    "# review_tokenized = stopword_rm.transform(review_tokenized)\n",
    "\n",
    "# review_tokenized.select('<lambda>(reviewText)', 'words', 'words_nsw').show(5)"
   ]
  },
  {
   "cell_type": "code",
   "execution_count": 41,
   "metadata": {},
   "outputs": [],
   "source": [
    "# # add ngram column\n",
    "# n = 3\n",
    "# ngram = NGram(inputCol = 'words', outputCol = 'ngram', n = n)\n",
    "# add_ngram = ngram.transform(review_tokenized)\n",
    "\n",
    "# # generate the top frequent ngram\n",
    "# ngrams = add_ngram.rdd.flatMap(lambda x: x[-1]).filter(lambda x: len(x.split())==n)\n",
    "# ngram_tally = ngrams.map(lambda x: (x, 1))\\\n",
    "#                       .reduceByKey(lambda x,y: x+y)\\\n",
    "#                       .sortBy(lambda x: x[1], ascending=False)\\\n",
    "#                       .filter(lambda x: x[1]>=20)\n",
    "# ngram_list = ngram_tally.map(lambda x: x[0]).collect()"
   ]
  },
  {
   "cell_type": "code",
   "execution_count": 55,
   "metadata": {},
   "outputs": [],
   "source": [
    "# # replace the word with selected ngram\n",
    "# def ngram_concat(text):\n",
    "#     text1 = text.lower()\n",
    "#     for ngram in ngram_list:\n",
    "#         return text1.replace(ngram, ngram.replace(' ', '_'))\n",
    "\n",
    "# ngram_df = udf(lambda x: ngram_concat(x))\n",
    "# # ngram_df = review_tokenized.select(ngram_df('text'), 'label')\\\n",
    "# #                           .withColumnRenamed('<lambda>(text)', 'text')\n",
    "\n",
    "# # tokenize and remove stop words with ngram\n",
    "# tok = Tokenizer(inputCol=\"<lambda>(reviewText)\", outputCol=\"words\")\n",
    "# review_tokenized = tok.transform(review_df)\n",
    "# tokenized_ngram = tok.transform(ngram_df)\n",
    "# tokenized_ngram = stopword_rm.transform(tokenized_ngram)\n",
    "\n",
    "# stopword_rm = StopWordsRemover(inputCol='words', outputCol='words_nsw')\n",
    "# review_tokenized = stopword_rm.transform(review_tokenized)\n",
    "\n",
    "# # count vectorizer and tfidf\n",
    "# cv = CountVectorizer(inputCol='words_nsw', outputCol='tf')\n",
    "# cvModel = cv.fit(review_tokenized)\n",
    "# count_vectorized = cvModel.transform(review_tokenized)\n",
    "\n",
    "# tfidfModel = idf.fit(count_vectorized)\n",
    "# tfidf_df = tfidfModel.transform(count_vectorized)"
   ]
  },
  {
   "cell_type": "code",
   "execution_count": null,
   "metadata": {},
   "outputs": [],
   "source": []
  },
  {
   "cell_type": "code",
   "execution_count": null,
   "metadata": {},
   "outputs": [],
   "source": []
  },
  {
   "cell_type": "code",
   "execution_count": 67,
   "metadata": {},
   "outputs": [],
   "source": [
    "from pyspark.sql.functions import col, expr, udf, trim\n",
    "from pyspark.sql.types import IntegerType\n",
    "import re\n",
    "\n",
    "remove_punctuation = udf(lambda line: re.sub('[^A-Za-z\\s]', '', line))\n",
    "make_binary = udf(lambda rating: 0 if rating in [1, 2] else 1, IntegerType())\n",
    "\n",
    "reviews = (sample_rev\n",
    "    .filter(col('overall').isin([1, 2, 3, 4, 5]))\n",
    "    .withColumn('label', make_binary(col('overall')))\n",
    "    .select(col('label').cast('int'), remove_punctuation('summary').alias('summary'))\n",
    "    .filter(trim(col('summary')) != ''))"
   ]
  },
  {
   "cell_type": "code",
   "execution_count": 68,
   "metadata": {},
   "outputs": [],
   "source": [
    "train, test = reviews.randomSplit([.8, .2], seed=123)"
   ]
  },
  {
   "cell_type": "code",
   "execution_count": 69,
   "metadata": {},
   "outputs": [],
   "source": [
    "def multiply_dataset(dataset, n):\n",
    "    return dataset if n <= 1 else dataset.union(multiply_dataset(dataset, n - 1))\n",
    "\n",
    "reviews_good = train.filter('label == 1')\n",
    "reviews_bad = train.filter('label == 0')\n",
    "\n",
    "reviews_bad_multiplied = multiply_dataset(reviews_bad, reviews_good.count() / reviews_bad.count())\n",
    "\n",
    "\n",
    "train_reviews = reviews_bad_multiplied.union(reviews_good)"
   ]
  },
  {
   "cell_type": "code",
   "execution_count": null,
   "metadata": {},
   "outputs": [],
   "source": [
    "accuracy = reviews_good.count() / float(train_reviews.count())\n",
    "print('Always predicting 5 stars accuracy: {0}'.format(accuracy))"
   ]
  },
  {
   "cell_type": "code",
   "execution_count": null,
   "metadata": {},
   "outputs": [],
   "source": [
    "from pyspark.ml.feature import Tokenizer, HashingTF, IDF, StopWordsRemover\n",
    "from pyspark.ml.pipeline import Pipeline\n",
    "from pyspark.ml.classification import LogisticRegression\n",
    "\n",
    "tokenizer = Tokenizer(inputCol='summary', outputCol='words')\n",
    "\n",
    "pipeline = Pipeline(stages=[\n",
    "    tokenizer, \n",
    "    StopWordsRemover(inputCol='words', outputCol='filtered_words')\n",
    "    HashingTF(inputCol='filtered_words', outputCol='rawFeatures', numFeatures=120000),\n",
    "    IDF(inputCol='rawFeatures', outputCol='features'),\n",
    "    LogisticRegression(regParam=.3, elasticNetParam=.01)\n",
    "])"
   ]
  },
  {
   "cell_type": "code",
   "execution_count": null,
   "metadata": {},
   "outputs": [],
   "source": [
    "model = pipeline.fit(train_reviews)"
   ]
  },
  {
   "cell_type": "code",
   "execution_count": null,
   "metadata": {},
   "outputs": [],
   "source": [
    "from pyspark.ml.evaluation import BinaryClassificationEvaluator\n",
    "\n",
    "prediction = model.transform(test)\n",
    "BinaryClassificationEvaluator().evaluate(prediction)"
   ]
  },
  {
   "cell_type": "code",
   "execution_count": null,
   "metadata": {},
   "outputs": [],
   "source": []
  },
  {
   "cell_type": "code",
   "execution_count": null,
   "metadata": {},
   "outputs": [],
   "source": []
  },
  {
   "cell_type": "code",
   "execution_count": null,
   "metadata": {},
   "outputs": [],
   "source": []
  },
  {
   "cell_type": "code",
   "execution_count": null,
   "metadata": {},
   "outputs": [],
   "source": []
  },
  {
   "cell_type": "code",
   "execution_count": null,
   "metadata": {},
   "outputs": [],
   "source": []
  }
 ],
 "metadata": {
  "kernelspec": {
   "display_name": "Python 3",
   "language": "python",
   "name": "python3"
  },
  "language_info": {
   "codemirror_mode": {
    "name": "ipython",
    "version": 3
   },
   "file_extension": ".py",
   "mimetype": "text/x-python",
   "name": "python",
   "nbconvert_exporter": "python",
   "pygments_lexer": "ipython3",
   "version": "3.6.8"
  }
 },
 "nbformat": 4,
 "nbformat_minor": 2
}
